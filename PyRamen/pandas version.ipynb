{
  "nbformat": 4,
  "nbformat_minor": 0,
  "metadata": {
    "kernelspec": {
      "display_name": "Python 3",
      "language": "python",
      "name": "python3"
    },
    "language_info": {
      "codemirror_mode": {
        "name": "ipython",
        "version": 3
      },
      "file_extension": ".py",
      "mimetype": "text/x-python",
      "name": "python",
      "nbconvert_exporter": "python",
      "pygments_lexer": "ipython3",
      "version": "3.7.4"
    },
    "colab": {
      "name": "pandas version.ipynb",
      "provenance": [],
      "include_colab_link": true
    }
  },
  "cells": [
    {
      "cell_type": "markdown",
      "metadata": {
        "id": "view-in-github",
        "colab_type": "text"
      },
      "source": [
        "<a href=\"https://colab.research.google.com/github/junweiluo/python-homework/blob/master/PyRamen/pandas%20version.ipynb\" target=\"_parent\"><img src=\"https://colab.research.google.com/assets/colab-badge.svg\" alt=\"Open In Colab\"/></a>"
      ]
    },
    {
      "cell_type": "code",
      "metadata": {
        "id": "cr4UJk7JEGyf",
        "colab_type": "code",
        "colab": {}
      },
      "source": [
        "import pandas as pd"
      ],
      "execution_count": 0,
      "outputs": []
    },
    {
      "cell_type": "code",
      "metadata": {
        "id": "K0xRb95lEGyr",
        "colab_type": "code",
        "colab": {}
      },
      "source": [
        "# initialize report for reporting\n",
        "report = {}\n",
        "\n",
        "# file path in Git\n",
        "menupath = \"https://raw.githubusercontent.com/junweiluo/python-homework/master/PyRamen/Resources/menu_data.csv\"\n",
        "salespath = \"https://raw.githubusercontent.com/junweiluo/python-homework/master/PyRamen/Resources/sales_data.csv\"\n",
        "\n",
        "# import as dataframe\n",
        "menu = pd.read_csv(menupath)\n",
        "sales = pd.read_csv(salespath)"
      ],
      "execution_count": 0,
      "outputs": []
    },
    {
      "cell_type": "code",
      "metadata": {
        "id": "7Orlt7U4EGyu",
        "colab_type": "code",
        "colab": {}
      },
      "source": [
        "# merge 2 dataframe: left join to sales table\n",
        "df = pd.merge(sales, menu, left_on = \"Menu_Item\", right_on=\"item\", how=\"left\", indicator = True)"
      ],
      "execution_count": 0,
      "outputs": []
    },
    {
      "cell_type": "code",
      "metadata": {
        "id": "9-PVQKrlEGyy",
        "colab_type": "code",
        "colab": {}
      },
      "source": [
        "# filter for unjoined sales item, get unique value and print out unjoined items\n",
        "df_unjoined = df[df[\"_merge\"] != \"both\"]\n",
        "\n",
        "df_unjoined_unique = df_unjoined[\"Menu_Item\"].unique()\n",
        "\n",
        "if len(df_unjoined_unique) > 0:\n",
        "    for item in df_unjoined_unique:\n",
        "        print(f\"{item} does not equal any item on menu! NO MATCH!\")  "
      ],
      "execution_count": 0,
      "outputs": []
    },
    {
      "cell_type": "code",
      "metadata": {
        "id": "1E6waxHyEGy1",
        "colab_type": "code",
        "colab": {}
      },
      "source": [
        "# filter for matched sales items\n",
        "df = df[df[\"_merge\"] == \"both\"]\n",
        "\n",
        "# convert to numeric\n",
        "df[[\"Quantity\", \"price\", \"cost\"]] = df[[\"Quantity\", \"price\", \"cost\"]].apply(pd.to_numeric)\n",
        "\n",
        "# calculate extra column\n",
        "df[\"01-count\"] = df[\"Quantity\"]\n",
        "df[\"02-revenue\"] = df[\"Quantity\"] * df[\"price\"]\n",
        "df[\"03-cogs\"] = df[\"Quantity\"] * df[\"cost\"]\n",
        "df[\"04-profits\"] = df[\"02-revenue\"] - df[\"03-cogs\"]"
      ],
      "execution_count": 0,
      "outputs": []
    },
    {
      "cell_type": "code",
      "metadata": {
        "id": "QufGbBCcEGy4",
        "colab_type": "code",
        "colab": {}
      },
      "source": [
        "# summarize by sales item\n",
        "df_summary = df.groupby([\"item\"]).sum()\n",
        "\n",
        "# select only relevant columns\n",
        "df_summary2 = df_summary[[\"01-count\",\"02-revenue\",\"03-cogs\",\"04-profits\"]]\n",
        "\n",
        "# convert dataframe to dict for required reporting\n",
        "report = df_summary2.to_dict(\"index\") "
      ],
      "execution_count": 0,
      "outputs": []
    },
    {
      "cell_type": "code",
      "metadata": {
        "id": "-R4pqca8EGy6",
        "colab_type": "code",
        "colab": {}
      },
      "source": [
        "#output result\n",
        "output_path = Path(\"output.txt\")\n",
        "\n",
        "with open(output_path, 'w') as outputfile:\n",
        "    for k, v in report.items():\n",
        "        outputfile.write(f\"{str(k)} {str(v)}\")\n",
        "        outputfile.write(f\"\\n\")"
      ],
      "execution_count": 0,
      "outputs": []
    }
  ]
}
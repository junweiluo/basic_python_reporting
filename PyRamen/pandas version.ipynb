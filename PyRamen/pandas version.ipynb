{
  "nbformat": 4,
  "nbformat_minor": 0,
  "metadata": {
    "kernelspec": {
      "display_name": "Python 3",
      "language": "python",
      "name": "python3"
    },
    "language_info": {
      "codemirror_mode": {
        "name": "ipython",
        "version": 3
      },
      "file_extension": ".py",
      "mimetype": "text/x-python",
      "name": "python",
      "nbconvert_exporter": "python",
      "pygments_lexer": "ipython3",
      "version": "3.7.4"
    },
    "colab": {
      "name": "pandas version.ipynb",
      "provenance": [],
      "include_colab_link": true
    }
  },
  "cells": [
    {
      "cell_type": "markdown",
      "metadata": {
        "id": "view-in-github",
        "colab_type": "text"
      },
      "source": [
        "<a href=\"https://colab.research.google.com/github/junweiluo/python-homework/blob/master/PyRamen/pandas%20version.ipynb\" target=\"_parent\"><img src=\"https://colab.research.google.com/assets/colab-badge.svg\" alt=\"Open In Colab\"/></a>"
      ]
    },
    {
      "cell_type": "code",
      "metadata": {
        "id": "cr4UJk7JEGyf",
        "colab_type": "code",
        "colab": {
          "base_uri": "https://localhost:8080/",
          "height": 34
        },
        "outputId": "185898bb-db2c-44c9-f878-b26d4ce489de"
      },
      "source": [
        "import pandas as pd\n",
        "from pathlib import Path\n",
        "\n",
        "# find out current directory\n",
        "print(f\"Current Working Directory: {Path.cwd()}\")"
      ],
      "execution_count": 1,
      "outputs": [
        {
          "output_type": "stream",
          "text": [
            "Current Working Directory: /content\n"
          ],
          "name": "stdout"
        }
      ]
    },
    {
      "cell_type": "code",
      "metadata": {
        "id": "K0xRb95lEGyr",
        "colab_type": "code",
        "colab": {}
      },
      "source": [
        "# initialize report for reporting\n",
        "report = {}\n",
        "\n",
        "# file path\n",
        "menupath = \"https://raw.githubusercontent.com/junweiluo/python-homework/master/PyRamen/Resources/menu_data.csv\"\n",
        "salespath = \"https://raw.githubusercontent.com/junweiluo/python-homework/master/PyRamen/Resources/sales_data.csv\"\n",
        "\n",
        "# import as dataframe\n",
        "menu = pd.read_csv(menupath)\n",
        "sales = pd.read_csv(salespath)"
      ],
      "execution_count": 0,
      "outputs": []
    },
    {
      "cell_type": "code",
      "metadata": {
        "id": "7Orlt7U4EGyu",
        "colab_type": "code",
        "colab": {}
      },
      "source": [
        "# merge 2 dataframe: left join to sales table\n",
        "df = pd.merge(sales, menu, left_on = \"Menu_Item\", right_on=\"item\", how=\"left\", indicator = True)"
      ],
      "execution_count": 0,
      "outputs": []
    },
    {
      "cell_type": "code",
      "metadata": {
        "id": "9-PVQKrlEGyy",
        "colab_type": "code",
        "colab": {}
      },
      "source": [
        "# filter for unjoined sales item, get unique value and print out unjoined items\n",
        "df_unjoined = df[df[\"_merge\"] != \"both\"]\n",
        "\n",
        "df_unjoined_unique = df_unjoined[\"Menu_Item\"].unique()\n",
        "\n",
        "if len(df_unjoined_unique) > 0:\n",
        "    for item in df_unjoined_unique:\n",
        "        print(f\"{item} does not equal any item on menu! NO MATCH!\")  "
      ],
      "execution_count": 0,
      "outputs": []
    },
    {
      "cell_type": "code",
      "metadata": {
        "id": "1E6waxHyEGy1",
        "colab_type": "code",
        "colab": {}
      },
      "source": [
        "# filter for matched sales items\n",
        "df = df[df[\"_merge\"] == \"both\"]\n",
        "\n",
        "# convert to numeric\n",
        "df[[\"Quantity\", \"price\", \"cost\"]] = df[[\"Quantity\", \"price\", \"cost\"]].apply(pd.to_numeric)\n",
        "\n",
        "# calculate extra column\n",
        "df[\"01-count\"] = df[\"Quantity\"]\n",
        "df[\"02-revenue\"] = df[\"Quantity\"] * df[\"price\"]\n",
        "df[\"03-cogs\"] = df[\"Quantity\"] * df[\"cost\"]\n",
        "df[\"04-profits\"] = df[\"02-revenue\"] - df[\"03-cogs\"]"
      ],
      "execution_count": 0,
      "outputs": []
    },
    {
      "cell_type": "code",
      "metadata": {
        "id": "QufGbBCcEGy4",
        "colab_type": "code",
        "colab": {}
      },
      "source": [
        "# summarize by sales item\n",
        "df_summary = df.groupby([\"item\"]).sum()\n",
        "\n",
        "# select only relevant columns\n",
        "df_summary2 = df_summary[[\"01-count\",\"02-revenue\",\"03-cogs\",\"04-profits\"]]\n",
        "\n",
        "# convert dataframe to dict for required reporting\n",
        "report = df_summary2.to_dict(\"index\") "
      ],
      "execution_count": 0,
      "outputs": []
    },
    {
      "cell_type": "code",
      "metadata": {
        "id": "-R4pqca8EGy6",
        "colab_type": "code",
        "colab": {}
      },
      "source": [
        "#output result\n",
        "output_path = Path(\"output.txt\")\n",
        "\n",
        "with open(output_path, 'w') as outputfile:\n",
        "    for k, v in report.items():\n",
        "        outputfile.write(f\"{str(k)} {str(v)}\")\n",
        "        outputfile.write(f\"\\n\")"
      ],
      "execution_count": 0,
      "outputs": []
    },
    {
      "cell_type": "code",
      "metadata": {
        "id": "YkRQGpKXG-6G",
        "colab_type": "code",
        "colab": {
          "base_uri": "https://localhost:8080/",
          "height": 54
        },
        "outputId": "32a89971-3c13-4cca-a6c1-269efa858130"
      },
      "source": [
        "print(report)"
      ],
      "execution_count": 11,
      "outputs": [
        {
          "output_type": "stream",
          "text": [
            "{'burnt garlic tonkotsu ramen': {'01-count': 9070.0, '02-revenue': 126980.0, '03-cogs': 54420.0, '04-profits': 72560.0}, 'miso crab ramen': {'01-count': 8890.0, '02-revenue': 106680.0, '03-cogs': 53340.0, '04-profits': 53340.0}, 'nagomi shoyu': {'01-count': 9132.0, '02-revenue': 100452.0, '03-cogs': 45660.0, '04-profits': 54792.0}, 'shio ramen': {'01-count': 9180.0, '02-revenue': 100980.0, '03-cogs': 45900.0, '04-profits': 55080.0}, 'soft-shell miso crab ramen': {'01-count': 9130.0, '02-revenue': 127820.0, '03-cogs': 63910.0, '04-profits': 63910.0}, 'spicy miso ramen': {'01-count': 9238.0, '02-revenue': 110856.0, '03-cogs': 46190.0, '04-profits': 64666.0}, 'tonkotsu ramen': {'01-count': 9288.0, '02-revenue': 120744.0, '03-cogs': 55728.0, '04-profits': 65016.0}, 'tori paitan ramen': {'01-count': 9156.0, '02-revenue': 119028.0, '03-cogs': 54936.0, '04-profits': 64092.0}, 'truffle butter ramen': {'01-count': 8982.0, '02-revenue': 125748.0, '03-cogs': 62874.0, '04-profits': 62874.0}, 'vegetarian curry + king trumpet mushroom ramen': {'01-count': 8824.0, '02-revenue': 114712.0, '03-cogs': 61768.0, '04-profits': 52944.0}, 'vegetarian spicy miso': {'01-count': 9216.0, '02-revenue': 110592.0, '03-cogs': 46080.0, '04-profits': 64512.0}}\n"
          ],
          "name": "stdout"
        }
      ]
    }
  ]
}
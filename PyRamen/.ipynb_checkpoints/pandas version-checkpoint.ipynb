{
 "cells": [
  {
   "cell_type": "code",
   "execution_count": 1,
   "metadata": {},
   "outputs": [
    {
     "name": "stdout",
     "output_type": "stream",
     "text": [
      "Current Working Directory: /Users/junweiluo/programming/python-homework/PyRamen\n"
     ]
    }
   ],
   "source": [
    "import pandas as pd\n",
    "from pathlib import Path\n",
    "\n",
    "# find out current directory\n",
    "print(f\"Current Working Directory: {Path.cwd()}\")"
   ]
  },
  {
   "cell_type": "code",
   "execution_count": 3,
   "metadata": {},
   "outputs": [],
   "source": [
    "# initialize report for reporting\n",
    "report = {}\n",
    "\n",
    "# file path\n",
    "menupath = Path(\"Resources/menu_data.csv\")\n",
    "salespath = Path(\"Resources/sales_data.csv\")\n",
    "\n",
    "# import as dataframe\n",
    "menu = pd.read_csv(menupath)\n",
    "sales = pd.read_csv(salespath)"
   ]
  },
  {
   "cell_type": "code",
   "execution_count": 4,
   "metadata": {},
   "outputs": [],
   "source": [
    "# merge 2 dataframe: left join to sales table\n",
    "df = pd.merge(sales, menu, left_on = \"Menu_Item\", right_on=\"item\", how=\"left\", indicator = True)"
   ]
  },
  {
   "cell_type": "code",
   "execution_count": 5,
   "metadata": {},
   "outputs": [],
   "source": [
    "# filter for unjoined sales item, get unique value and print out unjoined items\n",
    "df_unjoined = df[df[\"_merge\"] != \"both\"]\n",
    "\n",
    "df_unjoined_unique = df_unjoined[\"Menu_Item\"].unique()\n",
    "\n",
    "if len(df_unjoined_unique) > 0:\n",
    "    for item in df_unjoined_unique:\n",
    "        print(f\"{item} does not equal any item on menu! NO MATCH!\")  "
   ]
  },
  {
   "cell_type": "code",
   "execution_count": 6,
   "metadata": {},
   "outputs": [],
   "source": [
    "# filter for matched sales items\n",
    "df = df[df[\"_merge\"] == \"both\"]\n",
    "\n",
    "# convert to numeric\n",
    "df[[\"Quantity\", \"price\", \"cost\"]] = df[[\"Quantity\", \"price\", \"cost\"]].apply(pd.to_numeric)\n",
    "\n",
    "# calculate extra column\n",
    "df[\"01-count\"] = df[\"Quantity\"]\n",
    "df[\"02-revenue\"] = df[\"Quantity\"] * df[\"price\"]\n",
    "df[\"03-cogs\"] = df[\"Quantity\"] * df[\"cost\"]\n",
    "df[\"04-profits\"] = df[\"02-revenue\"] - df[\"03-cogs\"]"
   ]
  },
  {
   "cell_type": "code",
   "execution_count": 7,
   "metadata": {},
   "outputs": [],
   "source": [
    "# summarize by sales item\n",
    "df_summary = df.groupby([\"item\"]).sum()\n",
    "\n",
    "# select only relevant columns\n",
    "df_summary2 = df_summary[[\"01-count\",\"02-revenue\",\"03-cogs\",\"04-profits\"]]\n",
    "\n",
    "# convert dataframe to dict for required reporting\n",
    "report = df_summary2.to_dict(\"index\") "
   ]
  },
  {
   "cell_type": "code",
   "execution_count": 9,
   "metadata": {},
   "outputs": [],
   "source": [
    "#output result\n",
    "output_path = Path(\"output.txt\")\n",
    "\n",
    "with open(output_path, 'w') as outputfile:\n",
    "    for k, v in report.items():\n",
    "        outputfile.write(f\"{str(k)} {str(v)}\")\n",
    "        outputfile.write(f\"\\n\")"
   ]
  }
 ],
 "metadata": {
  "kernelspec": {
   "display_name": "Python 3",
   "language": "python",
   "name": "python3"
  },
  "language_info": {
   "codemirror_mode": {
    "name": "ipython",
    "version": 3
   },
   "file_extension": ".py",
   "mimetype": "text/x-python",
   "name": "python",
   "nbconvert_exporter": "python",
   "pygments_lexer": "ipython3",
   "version": "3.7.4"
  }
 },
 "nbformat": 4,
 "nbformat_minor": 4
}
